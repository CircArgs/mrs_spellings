{
 "cells": [
  {
   "cell_type": "code",
   "execution_count": 10,
   "metadata": {},
   "outputs": [
    {
     "data": {
      "text/plain": [
       "[['~!@#$%^&*()_+', '`1234567890-='],\n",
       " [' qwertyuiop{[}]\\\\|'],\n",
       " [' asdfghjkl:;\"\\''],\n",
       " [' zxcvbnm<,>.?/']]"
      ]
     },
     "execution_count": 10,
     "metadata": {},
     "output_type": "execute_result"
    }
   ],
   "source": [
    "[i.split(\"\\t\") for i in '''\n",
    "~!@#$%^&*()_+\\t`1234567890-=\n",
    " QWERTYUIOP{[}]\\|\n",
    " ASDFGHJKL:;\"'\n",
    " ZXCVBNM<,>.?/\n",
    "'''.lower().splitlines() if i]"
   ]
  },
  {
   "cell_type": "code",
   "execution_count": 27,
   "metadata": {},
   "outputs": [],
   "source": [
    "import numpy as np\n",
    "x=[list(i) for i in ['~!@#$%^&*()_+', '`1234567890-={}|',\n",
    " ' qwertyuiop[]\\\\',\n",
    " ' asdfghjkl:;\"\\'',\n",
    " ' zxcvbnm<,>.?/']]"
   ]
  },
  {
   "cell_type": "code",
   "execution_count": 29,
   "metadata": {},
   "outputs": [],
   "source": [
    "qwerty={k:(rn, cn) for rn, r in enumerate(x) for  cn, c in enumerate(r) for k in c if k.strip()}"
   ]
  },
  {
   "cell_type": "code",
   "execution_count": 30,
   "metadata": {},
   "outputs": [],
   "source": [
    "import pandas as pd"
   ]
  },
  {
   "cell_type": "code",
   "execution_count": 32,
   "metadata": {},
   "outputs": [],
   "source": [
    "qwerty=pd.Series(qwerty)"
   ]
  },
  {
   "cell_type": "code",
   "execution_count": 47,
   "metadata": {},
   "outputs": [],
   "source": [
    "def distance(l1, l2):\n",
    "    l1=qwerty[l1]\n",
    "    l2=qwerty[l2]\n",
    "    return abs(l1[0]-l2[0])+abs(l1[1]-l2[1])"
   ]
  },
  {
   "cell_type": "code",
   "execution_count": 48,
   "metadata": {},
   "outputs": [],
   "source": [
    "dists={}\n",
    "for l1 in qwerty.index:\n",
    "    temp={}\n",
    "    for l2 in qwerty.index:\n",
    "        temp[l2]=distance(l1, l2)\n",
    "    dists[l1]=temp"
   ]
  },
  {
   "cell_type": "code",
   "execution_count": 51,
   "metadata": {},
   "outputs": [],
   "source": [
    "with open(\"dists_cache.py\", \"w\") as f:\n",
    "    f.write(\"qwerty_dists=\"+str(dists))"
   ]
  },
  {
   "cell_type": "code",
   "execution_count": 53,
   "metadata": {},
   "outputs": [],
   "source": [
    "closest={}\n",
    "for k,v in dists.items():\n",
    "    temp=list(zip(v.keys(), v.values()))\n",
    "    temp=sorted(temp, key=lambda x: x[1])\n",
    "    closest[k]=[i[0] for i in temp if i[1]>0]"
   ]
  },
  {
   "cell_type": "code",
   "execution_count": 55,
   "metadata": {},
   "outputs": [],
   "source": [
    "with open(\"closest_cache.py\", \"w\") as f:\n",
    "    f.write(\"qwerty_closest=\"+str(closest))"
   ]
  },
  {
   "cell_type": "code",
   "execution_count": 96,
   "metadata": {},
   "outputs": [],
   "source": [
    "closest_dists={}\n",
    "for k,v in dists.items():\n",
    "    temp=list(zip(v.keys(), v.values()))\n",
    "    temp=sorted(temp, key=lambda x: x[1])\n",
    "    n_dists=len(set([i[1] for i in temp]))\n",
    "    closest_dists[k]=[f for f in [[i[0] for i in temp if (i[1]>0) and (i[1]==t)] for t in range(len(temp))] if f]"
   ]
  },
  {
   "cell_type": "code",
   "execution_count": 98,
   "metadata": {},
   "outputs": [],
   "source": [
    "with open(\"closest_dists_cache.py\", \"w\") as f:\n",
    "    f.write(\"qwerty_closest_dists=\"+str(closest_dists))"
   ]
  },
  {
   "cell_type": "code",
   "execution_count": 97,
   "metadata": {},
   "outputs": [
    {
     "data": {
      "text/plain": [
       "[['t', 'f', 'h', 'b'],\n",
       " ['5', 'r', 'y', 'd', 'j', 'v', 'n'],\n",
       " ['%', '4', '6', 'e', 'u', 's', 'k', 'c', 'm'],\n",
       " ['$', '^', '3', '7', 'w', 'i', 'a', 'l', 'x', '<'],\n",
       " ['#', '&', '2', '8', 'q', 'o', ':', 'z', ','],\n",
       " ['@', '*', '1', '9', 'p', ';', '>'],\n",
       " ['!', '(', '`', '0', '[', '\"', '.'],\n",
       " ['~', ')', '-', ']', \"'\", '?'],\n",
       " ['_', '=', '\\\\', '/'],\n",
       " ['+', '{'],\n",
       " ['}'],\n",
       " ['|']]"
      ]
     },
     "execution_count": 97,
     "metadata": {},
     "output_type": "execute_result"
    }
   ],
   "source": [
    "closest_dists['g']"
   ]
  },
  {
   "cell_type": "code",
   "execution_count": 49,
   "metadata": {},
   "outputs": [
    {
     "data": {
      "text/plain": [
       "9"
      ]
     },
     "execution_count": 49,
     "metadata": {},
     "output_type": "execute_result"
    }
   ],
   "source": [
    "dists['q']['l']"
   ]
  },
  {
   "cell_type": "code",
   "execution_count": 21,
   "metadata": {},
   "outputs": [
    {
     "data": {
      "text/plain": [
       "[13, 13, 17, 14, 14]"
      ]
     },
     "execution_count": 21,
     "metadata": {},
     "output_type": "execute_result"
    }
   ],
   "source": [
    "[len(i) for i in x]"
   ]
  },
  {
   "cell_type": "code",
   "execution_count": 20,
   "metadata": {},
   "outputs": [
    {
     "data": {
      "text/plain": [
       "['~', '!', '@', '#', '$', '%', '^', '&', '*', '(', ')', '_', '+']"
      ]
     },
     "execution_count": 20,
     "metadata": {},
     "output_type": "execute_result"
    }
   ],
   "source": [
    "np.array(x)[0]"
   ]
  },
  {
   "cell_type": "code",
   "execution_count": 2,
   "metadata": {},
   "outputs": [
    {
     "data": {
      "text/plain": [
       "['qwertyuiop', 'asdfghjkl', 'zxcvbnm']"
      ]
     },
     "execution_count": 2,
     "metadata": {},
     "output_type": "execute_result"
    }
   ],
   "source": [
    "qwerty"
   ]
  },
  {
   "cell_type": "code",
   "execution_count": 99,
   "metadata": {},
   "outputs": [
    {
     "data": {
      "text/plain": [
       "{1, 2, 3, 4}"
      ]
     },
     "execution_count": 99,
     "metadata": {},
     "output_type": "execute_result"
    }
   ],
   "source": [
    "x=set([1,2,3])\n",
    "x.union(set([3,4]))"
   ]
  },
  {
   "cell_type": "code",
   "execution_count": 100,
   "metadata": {},
   "outputs": [
    {
     "data": {
      "text/plain": [
       "{1, 2, 3}"
      ]
     },
     "execution_count": 100,
     "metadata": {},
     "output_type": "execute_result"
    }
   ],
   "source": [
    "x"
   ]
  },
  {
   "cell_type": "code",
   "execution_count": null,
   "metadata": {},
   "outputs": [],
   "source": [
    "pos=map()"
   ]
  },
  {
   "cell_type": "code",
   "execution_count": null,
   "metadata": {},
   "outputs": [],
   "source": [
    "def nearest_n(letter, n):\n",
    "    "
   ]
  }
 ],
 "metadata": {
  "kernelspec": {
   "display_name": "Python 3",
   "language": "python",
   "name": "python3"
  },
  "language_info": {
   "codemirror_mode": {
    "name": "ipython",
    "version": 3
   },
   "file_extension": ".py",
   "mimetype": "text/x-python",
   "name": "python",
   "nbconvert_exporter": "python",
   "pygments_lexer": "ipython3",
   "version": "3.7.6"
  }
 },
 "nbformat": 4,
 "nbformat_minor": 4
}
